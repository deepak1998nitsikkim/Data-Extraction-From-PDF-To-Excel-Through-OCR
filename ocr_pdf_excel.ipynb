{
 "cells": [
  {
   "cell_type": "code",
   "execution_count": 1,
   "id": "0a047876",
   "metadata": {},
   "outputs": [
    {
     "name": "stdout",
     "output_type": "stream",
     "text": [
      "Requirement already satisfied: PyPDF2 in c:\\users\\deepa\\anaconda3\\lib\\site-packages (3.0.1)\n",
      "Requirement already satisfied: pytesseract in c:\\users\\deepa\\anaconda3\\lib\\site-packages (0.3.10)\n",
      "Requirement already satisfied: pandas in c:\\users\\deepa\\anaconda3\\lib\\site-packages (1.4.4)\n",
      "Requirement already satisfied: typing_extensions>=3.10.0.0 in c:\\users\\deepa\\anaconda3\\lib\\site-packages (from PyPDF2) (4.7.1)\n",
      "Requirement already satisfied: Pillow>=8.0.0 in c:\\users\\deepa\\anaconda3\\lib\\site-packages (from pytesseract) (9.2.0)\n",
      "Requirement already satisfied: packaging>=21.3 in c:\\users\\deepa\\anaconda3\\lib\\site-packages (from pytesseract) (21.3)\n",
      "Requirement already satisfied: numpy>=1.18.5 in c:\\users\\deepa\\anaconda3\\lib\\site-packages (from pandas) (1.23.5)\n",
      "Requirement already satisfied: python-dateutil>=2.8.1 in c:\\users\\deepa\\anaconda3\\lib\\site-packages (from pandas) (2.8.2)\n",
      "Requirement already satisfied: pytz>=2020.1 in c:\\users\\deepa\\anaconda3\\lib\\site-packages (from pandas) (2022.1)\n",
      "Requirement already satisfied: pyparsing!=3.0.5,>=2.0.2 in c:\\users\\deepa\\anaconda3\\lib\\site-packages (from packaging>=21.3->pytesseract) (3.0.9)\n",
      "Requirement already satisfied: six>=1.5 in c:\\users\\deepa\\anaconda3\\lib\\site-packages (from python-dateutil>=2.8.1->pandas) (1.16.0)\n",
      "Note: you may need to restart the kernel to use updated packages.\n"
     ]
    }
   ],
   "source": [
    "pip install PyPDF2 pytesseract pandas"
   ]
  },
  {
   "cell_type": "code",
   "execution_count": 2,
   "id": "04749af9",
   "metadata": {
    "scrolled": true
   },
   "outputs": [],
   "source": [
    "import PyPDF2\n",
    "import pytesseract\n",
    "import pandas as pd\n",
    "from PIL import Image\n",
    "import os\n",
    "\n",
    "# Replace 'C:/Program Files/Tesseract-OCR/tesseract.exe' with the actual path to the Tesseract executable\n",
    "pytesseract.pytesseract.tesseract_cmd = r'C:/Program Files/Tesseract-OCR/tesseract.exe'\n",
    "\n",
    "def extract_table_data(pdf_path):\n",
    "    with open(pdf_path, 'rb') as file:\n",
    "        pdf_reader = PyPDF2.PdfReader(file)\n",
    "        table_data = \"\"\n",
    "        for page_number in range(len(pdf_reader.pages)):\n",
    "            page = pdf_reader.pages[page_number]\n",
    "            table_data += page.extract_text()\n",
    "        return table_data\n",
    "\n",
    "def process_table_data(table_data):\n",
    "    lines = table_data.split('\\n')\n",
    "    headers = [line for line in lines[0].split() if line.strip()]\n",
    "    rows = []\n",
    "    for line in lines[1:]:\n",
    "        row_data = [data for data in line.split() if data.strip()]\n",
    "        if len(row_data) == len(headers):\n",
    "            rows.append(row_data)\n",
    "\n",
    "    return headers, rows\n",
    "\n",
    "def save_to_excel(headers, rows, output_path):\n",
    "    df = pd.DataFrame(rows, columns=headers)\n",
    "    df.to_excel(output_path, index=False)\n",
    "\n",
    "def main(pdf_path, output_excel_path):\n",
    "    table_data = extract_table_data(pdf_path)\n",
    "    headers, rows = process_table_data(table_data)\n",
    "    save_to_excel(headers, rows, output_excel_path)\n",
    "\n",
    "# Example usage:\n",
    "pdf_path = 'input.pdf'  # Replace with the path to your PDF file\n",
    "output_excel_path = 'output1.xlsx'\n",
    "\n",
    "main(pdf_path, output_excel_path)\n"
   ]
  },
  {
   "cell_type": "code",
   "execution_count": 3,
   "id": "dbc7849d",
   "metadata": {},
   "outputs": [],
   "source": [
    "import openpyxl\n",
    "\n",
    "def set_column_widths_and_row_heights(file_path, column_widths, row_heights):\n",
    "    workbook = openpyxl.load_workbook(file_path)\n",
    "\n",
    "    # Loop through all sheets in the workbook\n",
    "    for sheet in workbook.sheetnames:\n",
    "        ws = workbook[sheet]\n",
    "\n",
    "        # Set column widths\n",
    "        for col_idx, width in enumerate(column_widths, 1):\n",
    "            column_letter = openpyxl.utils.get_column_letter(col_idx)\n",
    "            ws.column_dimensions[column_letter].width = width\n",
    "\n",
    "        # Set row heights\n",
    "        for row_idx, height in enumerate(row_heights, 1):\n",
    "            ws.row_dimensions[row_idx].height = height\n",
    "\n",
    "    workbook.save(file_path)\n",
    "\n",
    "# Example usage:\n",
    "file_path = output_excel_path  # Replace with the path to your Excel file\n",
    "column_widths = [10, 18, 10, 12, 20, 14, 14, 14]  # Replace with the desired width for each column\n",
    "row_heights =   [18, 18, 18, 18, 18, 18, 18, 18]    # Replace with the desired height for each row\n",
    "\n",
    "set_column_widths_and_row_heights(file_path, column_widths, row_heights)\n"
   ]
  },
  {
   "cell_type": "code",
   "execution_count": 4,
   "id": "13cf5b8b",
   "metadata": {},
   "outputs": [],
   "source": [
    "import openpyxl\n",
    "from openpyxl.styles import Alignment\n",
    "\n",
    "def center_cell_values(file_path):\n",
    "    workbook = openpyxl.load_workbook(file_path)\n",
    "\n",
    "    # Loop through all sheets in the workbook\n",
    "    for sheet in workbook.sheetnames:\n",
    "        ws = workbook[sheet]\n",
    "\n",
    "        # Loop through all cells in the sheet and apply center alignment\n",
    "        for row in ws.iter_rows():\n",
    "            for cell in row:\n",
    "                cell.alignment = Alignment(horizontal='center', vertical='center')\n",
    "\n",
    "    workbook.save(file_path)\n",
    "\n",
    "# Example usage:\n",
    "file_path1 = file_path  # Replace with the path to your Excel file\n",
    "\n",
    "center_cell_values(file_path)\n"
   ]
  },
  {
   "cell_type": "code",
   "execution_count": 5,
   "id": "7e00f60a",
   "metadata": {
    "scrolled": true
   },
   "outputs": [
    {
     "name": "stdout",
     "output_type": "stream",
     "text": [
      "    SlNo  EpicNumber  Age      Name FatherName  DoorNo     Address Gender\n",
      "0      1  LDH2893901   25   Deepesh       Purv       1    Ludhiana      M\n",
      "1      2  JAL2893902   47       Tia        Jay       2   Jalandhar      F\n",
      "2      3  DEL2893903   26     Nihal      Karan       3       Delhi      M\n",
      "3      4  ASR2893904   29       Dev    Nishant       5    Amritsar      M\n",
      "4      5  PUN2893905   36      Juhi       Aman       8        Pune      F\n",
      "5      6  HYD2893906   27    Pranav      Pintu      13   Hyderabad      M\n",
      "6      7  KRL2893907   49   Sukriti       Aksh      21      Kerala      F\n",
      "7      8  HRN2893908   22      Amit    Bhavesh      34     Haryana      M\n",
      "8      9  CHG2893909   31     Sneha      Daman      55  Chandigarh      F\n",
      "9     10  PTL2893910   46     Niraj     Farhan      89     Patiala      M\n",
      "10    11  VRN4738211   48     Ravya      Gorav     144    Varanasi      F\n",
      "11    12  SRN2893212   53     Palak     Hitesh     233    Srinagar      F\n",
      "12    13  KLK2678313   26      Riya      Jagan     377     Kolkata      F\n",
      "13    14  CHN3738114   46    Harish       Arav     378     Chennai      M\n",
      "14    15  AMB3783315   46    Prabal     Lakhan     392      Ambala      M\n",
      "15    16  KNN3728216   37     Nitin      Mohan     402      Khanna      M\n",
      "16    17  LDH3829217   28     Vikas      Inder     423    Ludhiana      M\n",
      "17    18  JAL3829218   42    Nilesh       Veer     444   Jalandhar      M\n",
      "18    19  ASR4383919   25      Diya      Rahul     543    Amritsar      F\n",
      "19    22  JAL2893922   46      Jiya    Hansraj     582   Jalandhar      F\n",
      "20    23  DEL2893923   29     Varun     Dinesh     583       Delhi      M\n",
      "21    24  ASR2893924   21     Krish      Javed     585    Amritsar      M\n",
      "22    25  PUN2893925   39      Ruhi   Jitendra     588        Pune      F\n",
      "23    26  HYD2893926   26     Vansh   Jaskaran     613   Hyderabad      M\n",
      "24    27  KRL2893927   41     Kriti   Jaskirat     721      Kerala      F\n",
      "25    28  HRN2893928   23      Jeet      Viren     734     Haryana      M\n",
      "26    29  CHG2893929   30    Poonam      Pawan     755  Chandigarh      F\n",
      "27    30  PTL2893930   49    Dhiraj     Niresh     889     Patiala      M\n",
      "28    31  VRN4738231   40     Kavya     Dhiren     944    Varanasi      F\n",
      "29    32  SRN2893232   51    Jhalak     Veeraj     833    Srinagar      F\n",
      "30    33  KLK2678333   28     Priya      Dhruv     877     Kolkata      F\n",
      "31    34  CHN3738134   42    Manish      Rahul     978     Chennai      M\n",
      "32    35  AMB3783335   40     Kamal      Karan     992      Ambala      M\n",
      "33    36  KNN3728236   31    Sachin       Aman    1002      Khanna      M\n",
      "34    37  LDH3829237   29     Akash        Dev    1023    Ludhiana      M\n",
      "35    38  JAL3829238   40    Ashish        Luv    1044   Jalandhar      M\n",
      "36    39  ASR4383939   28  Kohinoor      Jivan    1043    Amritsar      F\n",
      "37    40  PUN3893240   39   Ishnoor      Daksh    1064        Pune      F\n"
     ]
    }
   ],
   "source": [
    "import pandas as pd\n",
    "\n",
    "def show_excel_file(file_path2):\n",
    "    df = pd.read_excel(file_path2)\n",
    "    print(df.head(40))\n",
    "\n",
    "# Example usage:\n",
    "file_path2 = file_path1  # Replace with the path to your Excel file\n",
    "\n",
    "show_excel_file(file_path2)\n"
   ]
  },
  {
   "cell_type": "code",
   "execution_count": null,
   "id": "95d6b839",
   "metadata": {
    "scrolled": true
   },
   "outputs": [],
   "source": [
    "import pandas as pd\n",
    "from googletrans import Translator\n",
    "import time\n",
    "\n",
    "def translate_to_kannada(text):\n",
    "    translator = Translator()\n",
    "    try:\n",
    "        translated_text = translator.translate(text, src='en', dest='kn')\n",
    "        return translated_text.text\n",
    "    except:\n",
    "        # Return the original text if translation fails\n",
    "        return text\n",
    "\n",
    "def convert_excel_to_kannada(input_excel_path, output_excel_path):\n",
    "    df = pd.read_excel(input_excel_path)\n",
    "\n",
    "    # Iterate through each cell and translate the value to Kannada with a delay of 1 second\n",
    "    for col in df.columns:\n",
    "        df[col] = df[col].apply(translate_to_kannada)\n",
    "        time.sleep(0)  # Add a delay of 1 second between each translation request\n",
    "\n",
    "    df.to_excel(output_path, index=False)\n",
    "\n",
    "# Example usage:\n",
    "input_excel_path = file_path2    # Replace with the path to your Excel file with English values\n",
    "output_excel_path = 'output_kannada.xlsx'  # Replace with the desired output file path\n",
    "\n",
    "convert_excel_to_kannada(input_excel_path, output_excel_path)\n"
   ]
  },
  {
   "cell_type": "code",
   "execution_count": null,
   "id": "f14cc1ea",
   "metadata": {},
   "outputs": [],
   "source": [
    "# def show_excel_file(file_path3):\n",
    "#     df = pd.read_excel(file_path3)\n",
    "#     print(df.head(10))\n",
    "\n",
    "# # Example usage:\n",
    "# file_path3 = output_excel_path  # Replace with the path to your Excel file\n",
    "\n",
    "# show_excel_file(file_path3)"
   ]
  },
  {
   "cell_type": "code",
   "execution_count": null,
   "id": "0cb7e474",
   "metadata": {},
   "outputs": [],
   "source": []
  }
 ],
 "metadata": {
  "kernelspec": {
   "display_name": "Python 3 (ipykernel)",
   "language": "python",
   "name": "python3"
  },
  "language_info": {
   "codemirror_mode": {
    "name": "ipython",
    "version": 3
   },
   "file_extension": ".py",
   "mimetype": "text/x-python",
   "name": "python",
   "nbconvert_exporter": "python",
   "pygments_lexer": "ipython3",
   "version": "3.9.13"
  }
 },
 "nbformat": 4,
 "nbformat_minor": 5
}
